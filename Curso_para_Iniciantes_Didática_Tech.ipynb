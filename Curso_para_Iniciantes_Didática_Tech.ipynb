{
  "nbformat": 4,
  "nbformat_minor": 0,
  "metadata": {
    "colab": {
      "name": "Curso para Iniciantes - Didática Tech",
      "provenance": [],
      "collapsed_sections": [],
      "include_colab_link": true
    },
    "kernelspec": {
      "display_name": "Python 3",
      "name": "python3"
    }
  },
  "cells": [
    {
      "cell_type": "markdown",
      "metadata": {
        "id": "view-in-github",
        "colab_type": "text"
      },
      "source": [
        "<a href=\"https://colab.research.google.com/github/leonlauriano/Did-ticaTech_Iniciante/blob/main/Curso_para_Iniciantes_Did%C3%A1tica_Tech.ipynb\" target=\"_parent\"><img src=\"https://colab.research.google.com/assets/colab-badge.svg\" alt=\"Open In Colab\"/></a>"
      ]
    },
    {
      "cell_type": "markdown",
      "metadata": {
        "id": "4KKy4VdV1Z-Z"
      },
      "source": [
        "#Exercicio 1 - Aula 3"
      ]
    },
    {
      "cell_type": "code",
      "metadata": {
        "colab": {
          "base_uri": "https://localhost:8080/"
        },
        "id": "P4eUXYkD1ccE",
        "outputId": "73674dea-5a51-4eba-87a1-33c26bda54ba"
      },
      "source": [
        "print('Olá, mundo!')"
      ],
      "execution_count": null,
      "outputs": [
        {
          "output_type": "stream",
          "name": "stdout",
          "text": [
            "Olá, mundo!\n"
          ]
        }
      ]
    },
    {
      "cell_type": "code",
      "metadata": {
        "colab": {
          "base_uri": "https://localhost:8080/"
        },
        "id": "6lA0ajQx6vLb",
        "outputId": "c3b80b3a-4933-4d0d-f831-6ed7700705da"
      },
      "source": [
        "print('Didatica tech')"
      ],
      "execution_count": null,
      "outputs": [
        {
          "output_type": "stream",
          "name": "stdout",
          "text": [
            "Didatica tech\n"
          ]
        }
      ]
    },
    {
      "cell_type": "code",
      "metadata": {
        "colab": {
          "base_uri": "https://localhost:8080/",
          "height": 163
        },
        "id": "H1VhpmJ7680Z",
        "outputId": "1e19a45e-942a-4198-98de-34b8da6f05a3"
      },
      "source": [
        "print(oi)"
      ],
      "execution_count": null,
      "outputs": [
        {
          "output_type": "error",
          "ename": "NameError",
          "evalue": "ignored",
          "traceback": [
            "\u001b[0;31m---------------------------------------------------------------------------\u001b[0m",
            "\u001b[0;31mNameError\u001b[0m                                 Traceback (most recent call last)",
            "\u001b[0;32m<ipython-input-5-a26cc50efb25>\u001b[0m in \u001b[0;36m<module>\u001b[0;34m()\u001b[0m\n\u001b[0;32m----> 1\u001b[0;31m \u001b[0mprint\u001b[0m\u001b[0;34m(\u001b[0m\u001b[0moi\u001b[0m\u001b[0;34m)\u001b[0m\u001b[0;34m\u001b[0m\u001b[0;34m\u001b[0m\u001b[0m\n\u001b[0m",
            "\u001b[0;31mNameError\u001b[0m: name 'oi' is not defined"
          ]
        }
      ]
    },
    {
      "cell_type": "code",
      "metadata": {
        "colab": {
          "base_uri": "https://localhost:8080/"
        },
        "id": "foXh21GF7BPS",
        "outputId": "eb6a2b99-797c-47c8-ae3b-8e4b308c00b8"
      },
      "source": [
        "print('oi' 'tudo bem?')"
      ],
      "execution_count": null,
      "outputs": [
        {
          "output_type": "stream",
          "name": "stdout",
          "text": [
            "oitudo bem?\n"
          ]
        }
      ]
    },
    {
      "cell_type": "code",
      "metadata": {
        "colab": {
          "base_uri": "https://localhost:8080/"
        },
        "id": "NHLDKXCU7gXi",
        "outputId": "502c9131-976e-49eb-e9a7-f726f6083b5f"
      },
      "source": [
        "print('oi, ''tudo bem?')"
      ],
      "execution_count": null,
      "outputs": [
        {
          "output_type": "stream",
          "name": "stdout",
          "text": [
            "oi, tudo bem?\n"
          ]
        }
      ]
    },
    {
      "cell_type": "code",
      "metadata": {
        "colab": {
          "base_uri": "https://localhost:8080/"
        },
        "id": "rUGlzhWh7r8a",
        "outputId": "9211c4a7-3763-4af6-8e54-4be673def83f"
      },
      "source": [
        "#isso é um comentario\n",
        "print('oi')"
      ],
      "execution_count": null,
      "outputs": [
        {
          "output_type": "stream",
          "name": "stdout",
          "text": [
            "oi\n"
          ]
        }
      ]
    },
    {
      "cell_type": "code",
      "metadata": {
        "colab": {
          "base_uri": "https://localhost:8080/",
          "height": 129
        },
        "id": "baO0AF2W8Vox",
        "outputId": "de01bce2-375c-47f2-b6e6-d3988b2cce08"
      },
      "source": [
        "isso é um comentario\n",
        "print('oi')"
      ],
      "execution_count": null,
      "outputs": [
        {
          "output_type": "error",
          "ename": "SyntaxError",
          "evalue": "ignored",
          "traceback": [
            "\u001b[0;36m  File \u001b[0;32m\"<ipython-input-9-3acfe43fd279>\"\u001b[0;36m, line \u001b[0;32m1\u001b[0m\n\u001b[0;31m    isso é um comentario\u001b[0m\n\u001b[0m         ^\u001b[0m\n\u001b[0;31mSyntaxError\u001b[0m\u001b[0;31m:\u001b[0m invalid syntax\n"
          ]
        }
      ]
    },
    {
      "cell_type": "code",
      "metadata": {
        "colab": {
          "base_uri": "https://localhost:8080/"
        },
        "id": "VmlOf8u68Y6i",
        "outputId": "31315afd-caf1-41e3-d966-7c64ba388c3b"
      },
      "source": [
        "print(5+6)"
      ],
      "execution_count": null,
      "outputs": [
        {
          "output_type": "stream",
          "name": "stdout",
          "text": [
            "11\n"
          ]
        }
      ]
    },
    {
      "cell_type": "code",
      "metadata": {
        "colab": {
          "base_uri": "https://localhost:8080/"
        },
        "id": "EleCWVhJ8rpq",
        "outputId": "8e64e69b-6701-46c8-e44b-8a7b11c01ed7"
      },
      "source": [
        "5+6"
      ],
      "execution_count": null,
      "outputs": [
        {
          "output_type": "execute_result",
          "data": {
            "text/plain": [
              "11"
            ]
          },
          "metadata": {},
          "execution_count": 12
        }
      ]
    },
    {
      "cell_type": "markdown",
      "metadata": {
        "id": "i2kco-3O9lpF"
      },
      "source": [
        "#Exercicio 2 - Aula 4"
      ]
    },
    {
      "cell_type": "code",
      "metadata": {
        "colab": {
          "base_uri": "https://localhost:8080/"
        },
        "id": "SFMx9tvD9tC1",
        "outputId": "d6d722d7-e4b4-4b60-e904-6ad4caed1adb"
      },
      "source": [
        "print(10-5)\n",
        "print(5*3)\n",
        "print(17/3)\n",
        "print(2**3)"
      ],
      "execution_count": null,
      "outputs": [
        {
          "output_type": "stream",
          "name": "stdout",
          "text": [
            "5\n",
            "15\n",
            "5.666666666666667\n",
            "8\n"
          ]
        }
      ]
    },
    {
      "cell_type": "code",
      "metadata": {
        "colab": {
          "base_uri": "https://localhost:8080/"
        },
        "id": "7upzz3_k-hz8",
        "outputId": "759f1478-c8ba-438e-b055-90752ea23d3a"
      },
      "source": [
        "#isso é um comentario\n",
        "print ('explicando que o * uma vez é multiplicação e o ** duas vezes é um numero elevado')"
      ],
      "execution_count": null,
      "outputs": [
        {
          "output_type": "stream",
          "name": "stdout",
          "text": [
            "explicando que o * uma vez é multiplicação e o ** duas vezes é um numero elevado\n"
          ]
        }
      ]
    },
    {
      "cell_type": "code",
      "metadata": {
        "colab": {
          "base_uri": "https://localhost:8080/"
        },
        "id": "hOo7A1KW_IRi",
        "outputId": "daa47a48-6bc1-4290-fa17-aac2912499ab"
      },
      "source": [
        "print(5//2)"
      ],
      "execution_count": null,
      "outputs": [
        {
          "output_type": "stream",
          "name": "stdout",
          "text": [
            "2\n"
          ]
        }
      ]
    },
    {
      "cell_type": "code",
      "metadata": {
        "colab": {
          "base_uri": "https://localhost:8080/"
        },
        "id": "TFdGuaVn_iBp",
        "outputId": "9944e46d-989f-4c46-f996-ea91754af2f3"
      },
      "source": [
        "#isso é um comentario\n",
        "print('as duas barras vao fazer com que o resultado dessa divisão seja so o numero inteiro, ')\n",
        "print('ou seja 5 dividido por 2 vai dar 2,5 porem como foi usado as duas barras ele só vai dar 2 como resultado, justamente a parte inteira.')"
      ],
      "execution_count": null,
      "outputs": [
        {
          "output_type": "stream",
          "name": "stdout",
          "text": [
            "as duas barras vao fazer com que o resultado dessa divisão seja so o numero inteiro, \n",
            "ou seja 5 dividido por 2 vai dar 2,5 porem como foi usado as duas barras ele só vai dar 2 como resultado, justamente a parte inteira.\n"
          ]
        }
      ]
    },
    {
      "cell_type": "code",
      "metadata": {
        "colab": {
          "base_uri": "https://localhost:8080/"
        },
        "id": "9oLdKt6b_x95",
        "outputId": "aa76d2e3-6a2d-4297-954f-df9c688b23c4"
      },
      "source": [
        "print(5%2)"
      ],
      "execution_count": null,
      "outputs": [
        {
          "output_type": "stream",
          "name": "stdout",
          "text": [
            "1\n"
          ]
        }
      ]
    },
    {
      "cell_type": "code",
      "metadata": {
        "colab": {
          "base_uri": "https://localhost:8080/"
        },
        "id": "Qa4zpJRXCfeW",
        "outputId": "725d4d22-0d41-4f46-9bbc-9b83a4a28572"
      },
      "source": [
        "#isso é um comentario\n",
        "print('o % vai ser o resto da operaçao da divisao')"
      ],
      "execution_count": null,
      "outputs": [
        {
          "output_type": "stream",
          "name": "stdout",
          "text": [
            "o % vai ser o resto da operaçao da divisao\n"
          ]
        }
      ]
    },
    {
      "cell_type": "markdown",
      "metadata": {
        "id": "pzO3vX4OC6bt"
      },
      "source": [
        "#Exercicio 3 - Aula 5"
      ]
    },
    {
      "cell_type": "code",
      "metadata": {
        "id": "v3jKKgtZC7tq"
      },
      "source": [
        "a = 5"
      ],
      "execution_count": null,
      "outputs": []
    },
    {
      "cell_type": "code",
      "metadata": {
        "colab": {
          "base_uri": "https://localhost:8080/"
        },
        "id": "82WtznndPB0N",
        "outputId": "b3b0225e-f55c-46c6-a1c8-1f52bb654f26"
      },
      "source": [
        "#isso é um comentario\n",
        "print('o simbolo de = siginifica apenas que o 5 ta armazenado na variavel a')\n",
        "print('o a ta recebendo o valor de 5')\n"
      ],
      "execution_count": null,
      "outputs": [
        {
          "output_type": "stream",
          "name": "stdout",
          "text": [
            "o simbolo de = siginifica apenas que o 5 ta armazenado na variavel a\n",
            "o a ta recebendo o valor de 5\n"
          ]
        }
      ]
    },
    {
      "cell_type": "code",
      "metadata": {
        "colab": {
          "base_uri": "https://localhost:8080/"
        },
        "id": "DeZdEOsHPdUl",
        "outputId": "0bf09481-843b-4a98-c25c-dfd6412aa61a"
      },
      "source": [
        "#isso é um comentario\n",
        "print(' o sinal de = só vai ser igual se colocar dois sinais de == e ai se a gente atribuir o a = 5 depois jogar o a==5 ele vai confirmar a sentença')"
      ],
      "execution_count": null,
      "outputs": [
        {
          "output_type": "stream",
          "name": "stdout",
          "text": [
            " o sinal de = só vai ser igual se colocar dois sinais de == e ai se a gente atribuir o a = 5 depois jogar o a==5 ele vai confirmar a sentença\n"
          ]
        }
      ]
    },
    {
      "cell_type": "code",
      "metadata": {
        "colab": {
          "base_uri": "https://localhost:8080/"
        },
        "id": "LzbhDeNUPy0k",
        "outputId": "0bc1658a-f779-4c83-bd56-622d5e803951"
      },
      "source": [
        "a==5\n"
      ],
      "execution_count": null,
      "outputs": [
        {
          "output_type": "execute_result",
          "data": {
            "text/plain": [
              "True"
            ]
          },
          "metadata": {},
          "execution_count": 33
        }
      ]
    },
    {
      "cell_type": "code",
      "metadata": {
        "colab": {
          "base_uri": "https://localhost:8080/"
        },
        "id": "YPONrV-qP0H9",
        "outputId": "edd77d3a-2f54-4dbc-efb0-8dde239a9286"
      },
      "source": [
        "a==6"
      ],
      "execution_count": null,
      "outputs": [
        {
          "output_type": "execute_result",
          "data": {
            "text/plain": [
              "False"
            ]
          },
          "metadata": {},
          "execution_count": 34
        }
      ]
    },
    {
      "cell_type": "code",
      "metadata": {
        "id": "p27_SXEPP39N"
      },
      "source": [
        "b = 7\n"
      ],
      "execution_count": null,
      "outputs": []
    },
    {
      "cell_type": "code",
      "metadata": {
        "id": "lGGFInt0QOJF"
      },
      "source": [
        "c = a + b"
      ],
      "execution_count": null,
      "outputs": []
    },
    {
      "cell_type": "code",
      "metadata": {
        "colab": {
          "base_uri": "https://localhost:8080/"
        },
        "id": "Y-UJiokdQRQF",
        "outputId": "b44b1583-93e6-45aa-9888-a8623b388a8c"
      },
      "source": [
        "print(c)"
      ],
      "execution_count": null,
      "outputs": [
        {
          "output_type": "stream",
          "name": "stdout",
          "text": [
            "12\n"
          ]
        }
      ]
    },
    {
      "cell_type": "code",
      "metadata": {
        "id": "bpfsKXkcQTjV"
      },
      "source": [
        "variavel1 = 3\n",
        "variavel2 = 4\n",
        "variavel1 = 9"
      ],
      "execution_count": null,
      "outputs": []
    },
    {
      "cell_type": "code",
      "metadata": {
        "colab": {
          "base_uri": "https://localhost:8080/"
        },
        "id": "I9kphkQyQo8F",
        "outputId": "242811ae-4e3c-44ff-fd49-7ab11c7a5960"
      },
      "source": [
        "print(variavel1)"
      ],
      "execution_count": null,
      "outputs": [
        {
          "output_type": "stream",
          "name": "stdout",
          "text": [
            "9\n"
          ]
        }
      ]
    },
    {
      "cell_type": "code",
      "metadata": {
        "colab": {
          "base_uri": "https://localhost:8080/"
        },
        "id": "U5bfr8kYQ-fn",
        "outputId": "9e166145-94b4-4867-ca09-93659f8b8854"
      },
      "source": [
        "#isso é um comentario\n",
        "print('o valor da variavel1 9 substituiu o valor da variavel1 3 por ela está depois ')"
      ],
      "execution_count": null,
      "outputs": [
        {
          "output_type": "stream",
          "name": "stdout",
          "text": [
            "o valor da variavel1 9 substituiu o valor da variavel1 3 por ela está depois \n"
          ]
        }
      ]
    },
    {
      "cell_type": "code",
      "metadata": {
        "id": "mS_MtjAtRXN0"
      },
      "source": [
        "var = 4\n",
        "var2 = 3.5"
      ],
      "execution_count": null,
      "outputs": []
    },
    {
      "cell_type": "code",
      "metadata": {
        "colab": {
          "base_uri": "https://localhost:8080/"
        },
        "id": "bJuPxXddR5ff",
        "outputId": "0516d628-1af9-4089-9eeb-f4688376655e"
      },
      "source": [
        "type(var)"
      ],
      "execution_count": null,
      "outputs": [
        {
          "output_type": "execute_result",
          "data": {
            "text/plain": [
              "int"
            ]
          },
          "metadata": {},
          "execution_count": 47
        }
      ]
    },
    {
      "cell_type": "code",
      "metadata": {
        "colab": {
          "base_uri": "https://localhost:8080/"
        },
        "id": "Z42UjZ3VR9bU",
        "outputId": "d1968221-2037-41ea-8e2d-d4e3795cc6fe"
      },
      "source": [
        "type(var2)"
      ],
      "execution_count": null,
      "outputs": [
        {
          "output_type": "execute_result",
          "data": {
            "text/plain": [
              "float"
            ]
          },
          "metadata": {},
          "execution_count": 48
        }
      ]
    },
    {
      "cell_type": "code",
      "metadata": {
        "id": "L0YZaUMXSDG1"
      },
      "source": [
        "palavra = 'frase 1'"
      ],
      "execution_count": null,
      "outputs": []
    },
    {
      "cell_type": "code",
      "metadata": {
        "colab": {
          "base_uri": "https://localhost:8080/"
        },
        "id": "PFEBQQUSSZil",
        "outputId": "5ac97df8-6c52-4f57-e0bb-90d336d95759"
      },
      "source": [
        "type(palavra)"
      ],
      "execution_count": null,
      "outputs": [
        {
          "output_type": "execute_result",
          "data": {
            "text/plain": [
              "str"
            ]
          },
          "metadata": {},
          "execution_count": 50
        }
      ]
    },
    {
      "cell_type": "code",
      "metadata": {
        "colab": {
          "base_uri": "https://localhost:8080/"
        },
        "id": "ZVdCViJ3Sedd",
        "outputId": "9850bfe0-ae0a-4f4b-d1d3-dc4d0ac5480d"
      },
      "source": [
        "print( var + var2)"
      ],
      "execution_count": null,
      "outputs": [
        {
          "output_type": "stream",
          "name": "stdout",
          "text": [
            "7.5\n"
          ]
        }
      ]
    },
    {
      "cell_type": "code",
      "metadata": {
        "colab": {
          "base_uri": "https://localhost:8080/",
          "height": 163
        },
        "id": "Z7BVdxB8Spjd",
        "outputId": "035a904d-8ded-4274-c381-1c9286c764dd"
      },
      "source": [
        "print( var + palavra)"
      ],
      "execution_count": null,
      "outputs": [
        {
          "output_type": "error",
          "ename": "TypeError",
          "evalue": "ignored",
          "traceback": [
            "\u001b[0;31m---------------------------------------------------------------------------\u001b[0m",
            "\u001b[0;31mTypeError\u001b[0m                                 Traceback (most recent call last)",
            "\u001b[0;32m<ipython-input-52-ce5cca648a0f>\u001b[0m in \u001b[0;36m<module>\u001b[0;34m()\u001b[0m\n\u001b[0;32m----> 1\u001b[0;31m \u001b[0mprint\u001b[0m\u001b[0;34m(\u001b[0m \u001b[0mvar\u001b[0m \u001b[0;34m+\u001b[0m \u001b[0mpalavra\u001b[0m\u001b[0;34m)\u001b[0m\u001b[0;34m\u001b[0m\u001b[0;34m\u001b[0m\u001b[0m\n\u001b[0m",
            "\u001b[0;31mTypeError\u001b[0m: unsupported operand type(s) for +: 'int' and 'str'"
          ]
        }
      ]
    },
    {
      "cell_type": "markdown",
      "metadata": {
        "id": "U4371wUcS_UJ"
      },
      "source": [
        "#Exercicio 4 - Aula 6"
      ]
    },
    {
      "cell_type": "code",
      "metadata": {
        "colab": {
          "base_uri": "https://localhost:8080/"
        },
        "id": "US0a7OUoTDIc",
        "outputId": "cd066eee-5190-446d-9078-f18c3cd95960"
      },
      "source": [
        "nome = input('qual seu nome?')"
      ],
      "execution_count": null,
      "outputs": [
        {
          "name": "stdout",
          "output_type": "stream",
          "text": [
            "qual seu nome?Emmanuel\n"
          ]
        }
      ]
    },
    {
      "cell_type": "code",
      "metadata": {
        "colab": {
          "base_uri": "https://localhost:8080/"
        },
        "id": "vF_FeDf2TH5s",
        "outputId": "33a9b184-00e9-42f4-f9d2-07c1faaa81db"
      },
      "source": [
        "print(nome)"
      ],
      "execution_count": null,
      "outputs": [
        {
          "output_type": "stream",
          "name": "stdout",
          "text": [
            "Emmanuel\n"
          ]
        }
      ]
    },
    {
      "cell_type": "code",
      "metadata": {
        "colab": {
          "base_uri": "https://localhost:8080/"
        },
        "id": "RB3uyodiTVE9",
        "outputId": "7ec702a9-c324-4b46-8410-3c66293363f9"
      },
      "source": [
        "idade = input('qual a sua idade?')"
      ],
      "execution_count": null,
      "outputs": [
        {
          "name": "stdout",
          "output_type": "stream",
          "text": [
            "qual a sua idade?24\n"
          ]
        }
      ]
    },
    {
      "cell_type": "code",
      "metadata": {
        "colab": {
          "base_uri": "https://localhost:8080/"
        },
        "id": "HDJ5fkCKTaLN",
        "outputId": "e8029444-17c5-4f83-8c29-a04a5a89a82b"
      },
      "source": [
        "print(idade)"
      ],
      "execution_count": null,
      "outputs": [
        {
          "output_type": "stream",
          "name": "stdout",
          "text": [
            "24\n"
          ]
        }
      ]
    },
    {
      "cell_type": "code",
      "metadata": {
        "colab": {
          "base_uri": "https://localhost:8080/"
        },
        "id": "EjIydTvWTc2A",
        "outputId": "16d8296b-f623-41d5-9023-86e216cc7e90"
      },
      "source": [
        "print(idade*2)"
      ],
      "execution_count": null,
      "outputs": [
        {
          "output_type": "stream",
          "name": "stdout",
          "text": [
            "2424\n"
          ]
        }
      ]
    },
    {
      "cell_type": "code",
      "metadata": {
        "colab": {
          "base_uri": "https://localhost:8080/"
        },
        "id": "9XGlETLpTi9k",
        "outputId": "08d69a74-3cc9-4d57-a95b-9067a91ee54d"
      },
      "source": [
        "type(idade)"
      ],
      "execution_count": null,
      "outputs": [
        {
          "output_type": "execute_result",
          "data": {
            "text/plain": [
              "str"
            ]
          },
          "metadata": {},
          "execution_count": 59
        }
      ]
    },
    {
      "cell_type": "code",
      "metadata": {
        "id": "N-ODCywnTq3t"
      },
      "source": [
        "a = 'oi '"
      ],
      "execution_count": null,
      "outputs": []
    },
    {
      "cell_type": "code",
      "metadata": {
        "colab": {
          "base_uri": "https://localhost:8080/"
        },
        "id": "k9mtOw2_T1y9",
        "outputId": "419a0088-2c70-4f02-f239-9e4d85928772"
      },
      "source": [
        "print(a*5)"
      ],
      "execution_count": null,
      "outputs": [
        {
          "output_type": "stream",
          "name": "stdout",
          "text": [
            "oi oi oi oi oi \n"
          ]
        }
      ]
    },
    {
      "cell_type": "code",
      "metadata": {
        "colab": {
          "base_uri": "https://localhost:8080/"
        },
        "id": "81WDpAyMT3d8",
        "outputId": "02abc170-d5ab-491e-9498-12e414fc16e9"
      },
      "source": [
        "print(a*50)"
      ],
      "execution_count": null,
      "outputs": [
        {
          "output_type": "stream",
          "name": "stdout",
          "text": [
            "oi oi oi oi oi oi oi oi oi oi oi oi oi oi oi oi oi oi oi oi oi oi oi oi oi oi oi oi oi oi oi oi oi oi oi oi oi oi oi oi oi oi oi oi oi oi oi oi oi oi \n"
          ]
        }
      ]
    },
    {
      "cell_type": "code",
      "metadata": {
        "colab": {
          "base_uri": "https://localhost:8080/"
        },
        "id": "M7Km6c0gT_QN",
        "outputId": "e530a8cc-92d8-4253-8338-7f44d09c0804"
      },
      "source": [
        "idade = int(input ('qual a sua idade?'))"
      ],
      "execution_count": null,
      "outputs": [
        {
          "name": "stdout",
          "output_type": "stream",
          "text": [
            "qual a sua idade?24\n"
          ]
        }
      ]
    },
    {
      "cell_type": "code",
      "metadata": {
        "colab": {
          "base_uri": "https://localhost:8080/"
        },
        "id": "cnYLnu5zUO2F",
        "outputId": "f128738e-5f4a-44d7-f470-824d40709243"
      },
      "source": [
        "type(idade)"
      ],
      "execution_count": null,
      "outputs": [
        {
          "output_type": "execute_result",
          "data": {
            "text/plain": [
              "int"
            ]
          },
          "metadata": {},
          "execution_count": 67
        }
      ]
    },
    {
      "cell_type": "code",
      "metadata": {
        "colab": {
          "base_uri": "https://localhost:8080/"
        },
        "id": "YAvdP8a-USq7",
        "outputId": "cec60fdb-510d-4f79-f675-8fac50e0f469"
      },
      "source": [
        "print(idade*2)"
      ],
      "execution_count": null,
      "outputs": [
        {
          "output_type": "stream",
          "name": "stdout",
          "text": [
            "48\n"
          ]
        }
      ]
    },
    {
      "cell_type": "markdown",
      "metadata": {
        "id": "Bmj7OXrdU1IX"
      },
      "source": [
        "#Exercicio 5 - Aula 7"
      ]
    },
    {
      "cell_type": "code",
      "metadata": {
        "id": "ybQvcgqAU6RY"
      },
      "source": [
        "fruta = 'laranja'"
      ],
      "execution_count": null,
      "outputs": []
    },
    {
      "cell_type": "code",
      "metadata": {
        "colab": {
          "base_uri": "https://localhost:8080/"
        },
        "id": "A1ym-FP-VAu2",
        "outputId": "91552ec2-45bf-405a-bc61-3dc3a3083579"
      },
      "source": [
        "type(fruta)"
      ],
      "execution_count": null,
      "outputs": [
        {
          "output_type": "execute_result",
          "data": {
            "text/plain": [
              "str"
            ]
          },
          "metadata": {},
          "execution_count": 70
        }
      ]
    },
    {
      "cell_type": "code",
      "metadata": {
        "colab": {
          "base_uri": "https://localhost:8080/"
        },
        "id": "z8ig6QvYVD2M",
        "outputId": "fde0eb43-dae0-4b4f-c311-3941f107e6f8"
      },
      "source": [
        "print('suco de %s é o meu favorito!' %fruta)"
      ],
      "execution_count": null,
      "outputs": [
        {
          "output_type": "stream",
          "name": "stdout",
          "text": [
            "suco de laranja é o meu favorito!\n"
          ]
        }
      ]
    },
    {
      "cell_type": "code",
      "metadata": {
        "id": "4gPU4xEUVduV"
      },
      "source": [
        "fruta = 'limão'"
      ],
      "execution_count": null,
      "outputs": []
    },
    {
      "cell_type": "code",
      "metadata": {
        "colab": {
          "base_uri": "https://localhost:8080/"
        },
        "id": "s0TNhRTLVoiE",
        "outputId": "da7dd699-25ec-4dbb-edbb-939e6c49ea1e"
      },
      "source": [
        "print('o suco de %s não é o meu favorito!' %fruta)"
      ],
      "execution_count": null,
      "outputs": [
        {
          "output_type": "stream",
          "name": "stdout",
          "text": [
            "o suco de limão não é o meu favorito!\n"
          ]
        }
      ]
    },
    {
      "cell_type": "code",
      "metadata": {
        "id": "uesvtqJ7VvT8"
      },
      "source": [
        "fruta = 6"
      ],
      "execution_count": null,
      "outputs": []
    },
    {
      "cell_type": "code",
      "metadata": {
        "colab": {
          "base_uri": "https://localhost:8080/"
        },
        "id": "QtoBjCu8V0GU",
        "outputId": "2a0fd7f0-3c07-416b-ed91-934760e4aab9"
      },
      "source": [
        "type(fruta)"
      ],
      "execution_count": null,
      "outputs": [
        {
          "output_type": "execute_result",
          "data": {
            "text/plain": [
              "int"
            ]
          },
          "metadata": {},
          "execution_count": 75
        }
      ]
    },
    {
      "cell_type": "code",
      "metadata": {
        "colab": {
          "base_uri": "https://localhost:8080/"
        },
        "id": "7k2ElFCaV4Ec",
        "outputId": "d92d67ef-832c-4bfc-b9e8-71ea70a449c0"
      },
      "source": [
        "print('suco de %d é o meu favorito!' %fruta)"
      ],
      "execution_count": null,
      "outputs": [
        {
          "output_type": "stream",
          "name": "stdout",
          "text": [
            "suco de 6 é o meu favorito!\n"
          ]
        }
      ]
    },
    {
      "cell_type": "code",
      "metadata": {
        "id": "AG7UF0RwV_wc"
      },
      "source": [
        "fruta = 'laranja'"
      ],
      "execution_count": null,
      "outputs": []
    },
    {
      "cell_type": "code",
      "metadata": {
        "colab": {
          "base_uri": "https://localhost:8080/"
        },
        "id": "vCo6fv6cWc98",
        "outputId": "e3b6f8b1-686f-4b60-bf34-5808094b1481"
      },
      "source": [
        "print('suco de {} é o meu favorito!' .format(fruta))"
      ],
      "execution_count": null,
      "outputs": [
        {
          "output_type": "stream",
          "name": "stdout",
          "text": [
            "suco de laranja é o meu favorito!\n"
          ]
        }
      ]
    },
    {
      "cell_type": "code",
      "metadata": {
        "id": "CBNItgYTWi6U"
      },
      "source": [
        "cor1 = 'azul'\n",
        "cor2 = 'rosa'\n"
      ],
      "execution_count": null,
      "outputs": []
    },
    {
      "cell_type": "code",
      "metadata": {
        "colab": {
          "base_uri": "https://localhost:8080/"
        },
        "id": "g0JdYprvW6m9",
        "outputId": "0ce39291-5fee-4c29-bcfe-09103f6b5ad4"
      },
      "source": [
        "print('O céu é {1}, a flor é {0} e meu carro é {1}' .format(cor1, cor2))"
      ],
      "execution_count": null,
      "outputs": [
        {
          "output_type": "stream",
          "name": "stdout",
          "text": [
            "O céu é rosa, a flor é azul e meu carro é rosa\n"
          ]
        }
      ]
    },
    {
      "cell_type": "code",
      "metadata": {
        "colab": {
          "base_uri": "https://localhost:8080/"
        },
        "id": "lwlgE12WXnAt",
        "outputId": "01251bea-a3d1-4048-dc2a-78b530da992a"
      },
      "source": [
        "conta = 17/3\n",
        "print(conta)"
      ],
      "execution_count": null,
      "outputs": [
        {
          "output_type": "stream",
          "name": "stdout",
          "text": [
            "5.666666666666667\n"
          ]
        }
      ]
    },
    {
      "cell_type": "code",
      "metadata": {
        "colab": {
          "base_uri": "https://localhost:8080/"
        },
        "id": "P_cYERnGX-R-",
        "outputId": "e253ee63-7841-4f42-8184-fc32350f5920"
      },
      "source": [
        "type(conta)"
      ],
      "execution_count": null,
      "outputs": [
        {
          "output_type": "execute_result",
          "data": {
            "text/plain": [
              "float"
            ]
          },
          "metadata": {},
          "execution_count": 85
        }
      ]
    },
    {
      "cell_type": "code",
      "metadata": {
        "colab": {
          "base_uri": "https://localhost:8080/"
        },
        "id": "_jpzxYvmYBe8",
        "outputId": "b533097d-4d62-4e0b-e394-3d25509f8d0e"
      },
      "source": [
        "print('o resultado da conta é:{}' .format(conta))"
      ],
      "execution_count": null,
      "outputs": [
        {
          "output_type": "stream",
          "name": "stdout",
          "text": [
            "o resultado da conta é:5.666666666666667\n"
          ]
        }
      ]
    },
    {
      "cell_type": "code",
      "metadata": {
        "colab": {
          "base_uri": "https://localhost:8080/"
        },
        "id": "i4xzHiBGYSo1",
        "outputId": "dd7cb1a5-2d98-40d7-d501-7276030192c2"
      },
      "source": [
        "print('o resultado da conta é: {:.2f}' .format(conta))"
      ],
      "execution_count": null,
      "outputs": [
        {
          "output_type": "stream",
          "name": "stdout",
          "text": [
            "o resultado da conta é: 5.67\n"
          ]
        }
      ]
    },
    {
      "cell_type": "code",
      "metadata": {
        "colab": {
          "base_uri": "https://localhost:8080/"
        },
        "id": "eWxhJeAaYbPb",
        "outputId": "f3eade73-f48b-4f2d-866f-855058d1321a"
      },
      "source": [
        "#isso é um comentario\n",
        "print('para deixar algumas casas decimais usa-se o comando :.2f sendo o numero o indicador de quantas casas decimais terão depois da virgula')"
      ],
      "execution_count": null,
      "outputs": [
        {
          "output_type": "stream",
          "name": "stdout",
          "text": [
            "para deixar algumas casas decimais usa-se o comando :.2f sendo o numero o indicador de quantas casas decimais terão depois da virgula\n"
          ]
        }
      ]
    },
    {
      "cell_type": "code",
      "metadata": {
        "colab": {
          "base_uri": "https://localhost:8080/"
        },
        "id": "4H9_2KZsYs4r",
        "outputId": "97cdf450-b214-48f4-ebc5-0b7b9fcd48d2"
      },
      "source": [
        "print('o resultado da conta é: {:.3f}' .format(conta))"
      ],
      "execution_count": null,
      "outputs": [
        {
          "output_type": "stream",
          "name": "stdout",
          "text": [
            "o resultado da conta é: 5.667\n"
          ]
        }
      ]
    },
    {
      "cell_type": "markdown",
      "metadata": {
        "id": "9tZcI_yBZAAe"
      },
      "source": [
        "#Exercicio 6 - Aula 8"
      ]
    },
    {
      "cell_type": "code",
      "metadata": {
        "colab": {
          "base_uri": "https://localhost:8080/"
        },
        "id": "GXdGtXrQZFuD",
        "outputId": "8925c405-2778-4d1c-b0e8-bbb85cf5a5f2"
      },
      "source": [
        "comida = 'pizza'\n",
        "if comida == 'pizza':\n",
        "  print('possui muitas calorias!')"
      ],
      "execution_count": null,
      "outputs": [
        {
          "output_type": "stream",
          "name": "stdout",
          "text": [
            "possui muitas calorias!\n"
          ]
        }
      ]
    },
    {
      "cell_type": "code",
      "metadata": {
        "colab": {
          "base_uri": "https://localhost:8080/"
        },
        "id": "oyPat9KBZi1e",
        "outputId": "3dc41e3f-c687-4cf1-db2a-95a9a6902bc7"
      },
      "source": [
        "comida = 'pizza'\n",
        "if comida == 'pizza':\n",
        "  print('possui muitas calorias!')\n",
        "else: \n",
        "  print('desconheço as calorias!')"
      ],
      "execution_count": null,
      "outputs": [
        {
          "output_type": "stream",
          "name": "stdout",
          "text": [
            "possui muitas calorias!\n"
          ]
        }
      ]
    },
    {
      "cell_type": "code",
      "metadata": {
        "colab": {
          "base_uri": "https://localhost:8080/"
        },
        "id": "c367lUo9aC89",
        "outputId": "40df6fd5-317c-4b96-e410-bffd327b9442"
      },
      "source": [
        "comida = 'macarrão'\n",
        "if comida == 'pizza':\n",
        "  print('possui muitas calorias!')\n",
        "else: \n",
        "  print('desconheço as calorias!')"
      ],
      "execution_count": null,
      "outputs": [
        {
          "output_type": "stream",
          "name": "stdout",
          "text": [
            "desconheço as calorias!\n"
          ]
        }
      ]
    },
    {
      "cell_type": "code",
      "metadata": {
        "colab": {
          "base_uri": "https://localhost:8080/"
        },
        "id": "HFGw_GXtaIN0",
        "outputId": "8f71b95c-1eec-4a29-8d53-f66b7fb0bdc5"
      },
      "source": [
        "comida = 'macarrão'\n",
        "if comida == 'pizza':\n",
        "  print('possui muitas calorias!')\n",
        "elif comida == 'abóbora':\n",
        "  print('possui poucas calorias!')\n",
        "elif comida == 'churrasco':\n",
        "  print('possui muitas calorias!')  \n",
        "elif comida == 'melão':\n",
        "  print('possui poucas calorias!')  \n",
        "else:\n",
        "  print('desconhço as calorias!')"
      ],
      "execution_count": null,
      "outputs": [
        {
          "output_type": "stream",
          "name": "stdout",
          "text": [
            "desconhço as calorias!\n"
          ]
        }
      ]
    },
    {
      "cell_type": "code",
      "metadata": {
        "colab": {
          "base_uri": "https://localhost:8080/"
        },
        "id": "eBerIVKNbbxe",
        "outputId": "26f7aed7-2fef-49c5-c74f-a8ffc79e9bd5"
      },
      "source": [
        "comida = 'abóbora'\n",
        "if comida == 'pizza':\n",
        "  print('possui muitas calorias!')\n",
        "elif comida == 'abóbora':\n",
        "  print('possui poucas calorias!')\n",
        "elif comida == 'churrasco':\n",
        "  print('possui muitas calorias!')  \n",
        "elif comida == 'melão':\n",
        "  print('possui poucas calorias!')  \n",
        "else:\n",
        "  print('desconhço as calorias!')"
      ],
      "execution_count": null,
      "outputs": [
        {
          "output_type": "stream",
          "name": "stdout",
          "text": [
            "possui poucas calorias!\n"
          ]
        }
      ]
    },
    {
      "cell_type": "code",
      "metadata": {
        "colab": {
          "base_uri": "https://localhost:8080/"
        },
        "id": "bkgP3GiHbtBV",
        "outputId": "c2f9b769-6f6c-4b5e-c20e-4c9ffe48529e"
      },
      "source": [
        "comida = 'pizza'\n",
        "if comida != 'pizza':\n",
        "  print('não é pizza!')\n",
        "else: \n",
        "  print('é pizza!')"
      ],
      "execution_count": null,
      "outputs": [
        {
          "output_type": "stream",
          "name": "stdout",
          "text": [
            "é pizza!\n"
          ]
        }
      ]
    },
    {
      "cell_type": "code",
      "metadata": {
        "colab": {
          "base_uri": "https://localhost:8080/"
        },
        "id": "rg7N13vXcNCk",
        "outputId": "f4024893-48a9-4397-f41a-cb41e9f78190"
      },
      "source": [
        "comida = 'beterraba'\n",
        "if comida != 'pizza':\n",
        "  print('não é pizza!')\n",
        "else: \n",
        "  print('é pizza!')"
      ],
      "execution_count": null,
      "outputs": [
        {
          "output_type": "stream",
          "name": "stdout",
          "text": [
            "não é pizza!\n"
          ]
        }
      ]
    },
    {
      "cell_type": "code",
      "metadata": {
        "colab": {
          "base_uri": "https://localhost:8080/"
        },
        "id": "gUQQ_FC8cr4s",
        "outputId": "aed390a6-7d07-461d-cefb-3ad8a14107f3"
      },
      "source": [
        "valor = 1\n",
        "if valor <  0:\n",
        "  print('é menor que')\n",
        "else: \n",
        "  print('é maior que')"
      ],
      "execution_count": null,
      "outputs": [
        {
          "output_type": "stream",
          "name": "stdout",
          "text": [
            "é maior que\n"
          ]
        }
      ]
    },
    {
      "cell_type": "code",
      "metadata": {
        "colab": {
          "base_uri": "https://localhost:8080/"
        },
        "id": "qHUvrB3AehWL",
        "outputId": "b85af176-24f5-4a00-cb59-d9d52abe400b"
      },
      "source": [
        "idade = int(input('Em que ano você nasceu?'))\n",
        "if idade <= 2002 :\n",
        "    print('Você já é adulto!')\n",
        "else: \n",
        "  print('Você ainda não é um adulto!')\n",
        " "
      ],
      "execution_count": null,
      "outputs": [
        {
          "output_type": "stream",
          "name": "stdout",
          "text": [
            "Em que ano você nasceu?2005\n",
            "Você ainda não é um adulto!\n"
          ]
        }
      ]
    },
    {
      "cell_type": "code",
      "metadata": {
        "colab": {
          "base_uri": "https://localhost:8080/"
        },
        "id": "HNdKjQGfgm27",
        "outputId": "1125a5aa-2ceb-4a14-d96f-fdeeea2bbc02"
      },
      "source": [
        "idade = int(input('Em que ano você nasceu?'))\n",
        "if idade <= 2002 :\n",
        "    print('Você já é adulto!')\n",
        "else: \n",
        "  print('Você ainda não é um adulto!')"
      ],
      "execution_count": null,
      "outputs": [
        {
          "output_type": "stream",
          "name": "stdout",
          "text": [
            "Em que ano você nasceu?1998\n",
            "Você já é adulto!\n"
          ]
        }
      ]
    },
    {
      "cell_type": "code",
      "metadata": {
        "id": "FPS_PIZqh9Ts",
        "colab": {
          "base_uri": "https://localhost:8080/",
          "height": 129
        },
        "outputId": "31a5cb57-e41a-4648-f929-89080b283a63"
      },
      "source": [
        "ano = int(input('Em que ano você nasceu?'))\n",
        "idade = 2021 - ano\n",
        "if idade == 18:\n",
        "    print('Você já é adulto!')\n",
        "  elif idade >= 18:\n",
        "    print('Você ainda não é um adulto!')\n",
        "  elif idade <= 0:\n",
        "    print('Essa idade não é valida, por favor corrigir!')\n",
        "  elif idade >= 110:\n",
        "    print('Essa idade não é valida, por favor corrigir!')"
      ],
      "execution_count": null,
      "outputs": [
        {
          "output_type": "error",
          "ename": "IndentationError",
          "evalue": "ignored",
          "traceback": [
            "\u001b[0;36m  File \u001b[0;32m\"<ipython-input-33-5a8284e5e8f0>\"\u001b[0;36m, line \u001b[0;32m5\u001b[0m\n\u001b[0;31m    elif idade >= 18:\u001b[0m\n\u001b[0m                     ^\u001b[0m\n\u001b[0;31mIndentationError\u001b[0m\u001b[0;31m:\u001b[0m unindent does not match any outer indentation level\n"
          ]
        }
      ]
    },
    {
      "cell_type": "markdown",
      "metadata": {
        "id": "A6NUJkkbjrR7"
      },
      "source": [
        "#Exercicio 7 - Aula 9"
      ]
    },
    {
      "cell_type": "code",
      "metadata": {
        "id": "MDtW8Fh2jwaq",
        "colab": {
          "base_uri": "https://localhost:8080/"
        },
        "outputId": "f74c6c3f-e304-43cb-b2d0-e54ff6ac5a86"
      },
      "source": [
        "for i in range(5):\n",
        "  print(i)"
      ],
      "execution_count": null,
      "outputs": [
        {
          "output_type": "stream",
          "name": "stdout",
          "text": [
            "0\n",
            "1\n",
            "2\n",
            "3\n",
            "4\n"
          ]
        }
      ]
    },
    {
      "cell_type": "code",
      "metadata": {
        "colab": {
          "base_uri": "https://localhost:8080/"
        },
        "id": "bPuGJ9tEkzlN",
        "outputId": "10ad3223-14b1-4146-926a-c1d786e850e9"
      },
      "source": [
        "for i in range(5):\n",
        "  print('vou aprender!')"
      ],
      "execution_count": null,
      "outputs": [
        {
          "output_type": "stream",
          "name": "stdout",
          "text": [
            "vou aprender!\n",
            "vou aprender!\n",
            "vou aprender!\n",
            "vou aprender!\n",
            "vou aprender!\n"
          ]
        }
      ]
    },
    {
      "cell_type": "code",
      "metadata": {
        "colab": {
          "base_uri": "https://localhost:8080/"
        },
        "id": "HwafhDbzlITP",
        "outputId": "d49a0be8-74b4-4108-d1d2-98457122f5f4"
      },
      "source": [
        "a = 0\n",
        "for i in range(5):\n",
        "  a= a + 1\n",
        "print(a)  "
      ],
      "execution_count": null,
      "outputs": [
        {
          "output_type": "stream",
          "name": "stdout",
          "text": [
            "5\n"
          ]
        }
      ]
    },
    {
      "cell_type": "code",
      "metadata": {
        "colab": {
          "base_uri": "https://localhost:8080/"
        },
        "id": "2AsfcGpYlYuQ",
        "outputId": "cf8ab255-6e3d-49a2-88a1-ecb1e7ee8567"
      },
      "source": [
        "#isso é um comentario\n",
        "print('o ultimo valor da sequencia de a vai ser 5. lembrando que acima está de 0 a 4, ou seja 5 numeros')"
      ],
      "execution_count": null,
      "outputs": [
        {
          "output_type": "stream",
          "name": "stdout",
          "text": [
            "o ultimo valor da sequencia de a vai ser 5. lembrando que acima está de 0 a 4, ou seja 5 numeros\n"
          ]
        }
      ]
    },
    {
      "cell_type": "code",
      "metadata": {
        "colab": {
          "base_uri": "https://localhost:8080/"
        },
        "id": "i9R2Gb7DmYzb",
        "outputId": "e8e5d639-1f1d-440c-e883-e2d63e474074"
      },
      "source": [
        "a = 0\n",
        "b = 10\n",
        "for i in range(b):\n",
        "  print('frase') "
      ],
      "execution_count": null,
      "outputs": [
        {
          "output_type": "stream",
          "name": "stdout",
          "text": [
            "frase\n",
            "frase\n",
            "frase\n",
            "frase\n",
            "frase\n",
            "frase\n",
            "frase\n",
            "frase\n",
            "frase\n",
            "frase\n"
          ]
        }
      ]
    },
    {
      "cell_type": "code",
      "metadata": {
        "colab": {
          "base_uri": "https://localhost:8080/"
        },
        "id": "nDH6ax0fmgsX",
        "outputId": "4c8be092-9d90-4cb3-d271-9cc4d738cba6"
      },
      "source": [
        "palavra = 'matematica' \n",
        "for i in palavra: \n",
        "  print(i)\n"
      ],
      "execution_count": null,
      "outputs": [
        {
          "output_type": "stream",
          "name": "stdout",
          "text": [
            "m\n",
            "a\n",
            "t\n",
            "e\n",
            "m\n",
            "a\n",
            "t\n",
            "i\n",
            "c\n",
            "a\n"
          ]
        }
      ]
    },
    {
      "cell_type": "code",
      "metadata": {
        "colab": {
          "base_uri": "https://localhost:8080/"
        },
        "id": "tlIyquzCnMGV",
        "outputId": "d771f13b-0b37-4cc7-a94c-697723dd592d"
      },
      "source": [
        "lista = [2, 'oi', 8, 10,4 ,4]\n",
        "for num in lista:\n",
        "  print(num)"
      ],
      "execution_count": null,
      "outputs": [
        {
          "output_type": "stream",
          "name": "stdout",
          "text": [
            "2\n",
            "oi\n",
            "8\n",
            "10\n",
            "4\n",
            "4\n"
          ]
        }
      ]
    },
    {
      "cell_type": "markdown",
      "metadata": {
        "id": "V6dmenTmolFr"
      },
      "source": [
        "#Exercicio 8 - Aula 10"
      ]
    },
    {
      "cell_type": "code",
      "metadata": {
        "colab": {
          "base_uri": "https://localhost:8080/"
        },
        "id": "uVwvocvholmI",
        "outputId": "856a0b0a-4d79-49c0-8cc7-3385ff75745c"
      },
      "source": [
        "contador = 0\n",
        "while contador < 10:\n",
        "  print('ainda nao deu')\n",
        "  contador = contador + 1\n",
        "print('agora deu')"
      ],
      "execution_count": null,
      "outputs": [
        {
          "output_type": "stream",
          "name": "stdout",
          "text": [
            "ainda nao deu\n",
            "ainda nao deu\n",
            "ainda nao deu\n",
            "ainda nao deu\n",
            "ainda nao deu\n",
            "ainda nao deu\n",
            "ainda nao deu\n",
            "ainda nao deu\n",
            "ainda nao deu\n",
            "ainda nao deu\n",
            "agora deu\n"
          ]
        }
      ]
    },
    {
      "cell_type": "code",
      "metadata": {
        "colab": {
          "base_uri": "https://localhost:8080/"
        },
        "id": "KdZ4Lu0T0Pkl",
        "outputId": "0eaadb57-5e7e-41f2-d677-0c69306101d4"
      },
      "source": [
        "import time \n",
        "contador = 0\n",
        "while contador < 10:\n",
        "  print('ainda nao deu')\n",
        "  contador = contador + 1 \n",
        "  time.sleep(1)\n",
        "print('agora deu')"
      ],
      "execution_count": null,
      "outputs": [
        {
          "output_type": "stream",
          "name": "stdout",
          "text": [
            "ainda nao deu\n",
            "ainda nao deu\n",
            "ainda nao deu\n",
            "ainda nao deu\n",
            "ainda nao deu\n",
            "ainda nao deu\n",
            "ainda nao deu\n",
            "ainda nao deu\n",
            "ainda nao deu\n",
            "ainda nao deu\n",
            "agora deu\n"
          ]
        }
      ]
    },
    {
      "cell_type": "code",
      "metadata": {
        "colab": {
          "base_uri": "https://localhost:8080/"
        },
        "id": "cqabv2Sx2Kav",
        "outputId": "7890f35d-fb56-496f-cdf1-58eb94e57ec9"
      },
      "source": [
        "import time \n",
        "contador = 0\n",
        "while contador < 10:\n",
        "  print('ainda nao deu')\n",
        "  contador = contador + 1 \n",
        "  if contador == 6:\n",
        "    break\n",
        "  time.sleep(1)\n",
        "print('agora deu')"
      ],
      "execution_count": null,
      "outputs": [
        {
          "output_type": "stream",
          "name": "stdout",
          "text": [
            "ainda nao deu\n",
            "ainda nao deu\n",
            "ainda nao deu\n",
            "ainda nao deu\n",
            "ainda nao deu\n",
            "ainda nao deu\n",
            "agora deu\n"
          ]
        }
      ]
    },
    {
      "cell_type": "code",
      "metadata": {
        "colab": {
          "base_uri": "https://localhost:8080/"
        },
        "id": "AJsm3jXG3sIR",
        "outputId": "45a0d77c-a690-46fb-f772-1fd8bfaf2ea6"
      },
      "source": [
        "numero = int(input('Vamos calcular um fatorial. Me informe um número!'))\n",
        "fatorial = numero\n",
        "contador = 1\n",
        "while (numero - contador)>1:\n",
        "  fatorial = fatorial*(numero-contador)\n",
        "  contador = contador +1\n",
        "print('{0}! = {1}' .format(numero, fatorial))\n",
        "  \n"
      ],
      "execution_count": null,
      "outputs": [
        {
          "output_type": "stream",
          "name": "stdout",
          "text": [
            "Vamos calcular um fatorial. Me informe um número!5\n",
            "5! = 120\n"
          ]
        }
      ]
    },
    {
      "cell_type": "markdown",
      "metadata": {
        "id": "yJhwnWmYCPn1"
      },
      "source": [
        "#Exercicio 9 - Aula 11"
      ]
    },
    {
      "cell_type": "code",
      "metadata": {
        "colab": {
          "base_uri": "https://localhost:8080/"
        },
        "id": "dQei018eCVuV",
        "outputId": "0291b4b1-2781-4423-8dc8-aabcc1292fb9"
      },
      "source": [
        "import math\n",
        "math.factorial(5)"
      ],
      "execution_count": null,
      "outputs": [
        {
          "output_type": "execute_result",
          "data": {
            "text/plain": [
              "120"
            ]
          },
          "metadata": {},
          "execution_count": 2
        }
      ]
    },
    {
      "cell_type": "code",
      "metadata": {
        "colab": {
          "base_uri": "https://localhost:8080/"
        },
        "id": "oKrVjOSJDE_q",
        "outputId": "a0393dd4-5183-45e8-f8d5-22eaa2958147"
      },
      "source": [
        "math.factorial(3)"
      ],
      "execution_count": null,
      "outputs": [
        {
          "output_type": "execute_result",
          "data": {
            "text/plain": [
              "6"
            ]
          },
          "metadata": {},
          "execution_count": 3
        }
      ]
    },
    {
      "cell_type": "code",
      "metadata": {
        "colab": {
          "base_uri": "https://localhost:8080/"
        },
        "id": "gd59OBqcDQfA",
        "outputId": "87884553-3591-4f3c-a6f5-5219425d0dc9"
      },
      "source": [
        "import datetime\n",
        "datetime.date.today()"
      ],
      "execution_count": null,
      "outputs": [
        {
          "output_type": "execute_result",
          "data": {
            "text/plain": [
              "datetime.date(2021, 11, 9)"
            ]
          },
          "metadata": {},
          "execution_count": 4
        }
      ]
    },
    {
      "cell_type": "code",
      "metadata": {
        "colab": {
          "base_uri": "https://localhost:8080/"
        },
        "id": "A7zR9XDODdrn",
        "outputId": "1c63dc55-f4af-48b0-b57a-fe6fd31d0743"
      },
      "source": [
        "import datetime\n",
        "datetime.date.today().day"
      ],
      "execution_count": null,
      "outputs": [
        {
          "output_type": "execute_result",
          "data": {
            "text/plain": [
              "9"
            ]
          },
          "metadata": {},
          "execution_count": 5
        }
      ]
    },
    {
      "cell_type": "code",
      "metadata": {
        "colab": {
          "base_uri": "https://localhost:8080/",
          "height": 35
        },
        "id": "goDo3GHlESoC",
        "outputId": "1d959bd2-00b9-47d8-921d-80c3c262afc2"
      },
      "source": [
        "import datetime\n",
        "datetime.date.isoformat(datetime.date.today())"
      ],
      "execution_count": null,
      "outputs": [
        {
          "output_type": "execute_result",
          "data": {
            "application/vnd.google.colaboratory.intrinsic+json": {
              "type": "string"
            },
            "text/plain": [
              "'2021-11-09'"
            ]
          },
          "metadata": {},
          "execution_count": 6
        }
      ]
    },
    {
      "cell_type": "code",
      "metadata": {
        "colab": {
          "base_uri": "https://localhost:8080/",
          "height": 35
        },
        "id": "fVenx0uKFD25",
        "outputId": "25c58e9c-7be5-428f-b8e7-f48fd74cd9d4"
      },
      "source": [
        "from datetime import date\n",
        "date.isoformat(date.today())"
      ],
      "execution_count": null,
      "outputs": [
        {
          "output_type": "execute_result",
          "data": {
            "application/vnd.google.colaboratory.intrinsic+json": {
              "type": "string"
            },
            "text/plain": [
              "'2021-11-09'"
            ]
          },
          "metadata": {},
          "execution_count": 8
        }
      ]
    },
    {
      "cell_type": "markdown",
      "metadata": {
        "id": "lGDxV8aNFyIQ"
      },
      "source": [
        "#Exercicio 10 - Aula 12"
      ]
    },
    {
      "cell_type": "code",
      "metadata": {
        "id": "frqBXi2oFz6B"
      },
      "source": [
        "def parabens():\n",
        "  print(' parabens pra voce\\n nessa data querida\\n muitas felicidades\\n muitos anos de vida')"
      ],
      "execution_count": null,
      "outputs": []
    },
    {
      "cell_type": "code",
      "metadata": {
        "colab": {
          "base_uri": "https://localhost:8080/"
        },
        "id": "PqqGpEfOHH-G",
        "outputId": "22806c64-867a-470c-9a12-8f65e9290b81"
      },
      "source": [
        "parabens()"
      ],
      "execution_count": null,
      "outputs": [
        {
          "output_type": "stream",
          "name": "stdout",
          "text": [
            " parabens pra voce\n",
            " nessa data querida\n",
            " muitas felicidades\n",
            " muitos anos de vida\n"
          ]
        }
      ]
    },
    {
      "cell_type": "code",
      "metadata": {
        "id": "eNUADMrAHKgO"
      },
      "source": [
        "def temletrau():\n",
        "  frase = input('insira uma frase: ')\n",
        "  if 'u' in frase:\n",
        "    print('você utilizou a letra u')\n",
        "  else:\n",
        "    print('você não utilizou a letra u')  "
      ],
      "execution_count": null,
      "outputs": []
    },
    {
      "cell_type": "code",
      "metadata": {
        "colab": {
          "base_uri": "https://localhost:8080/"
        },
        "id": "ODa36dvbIIy2",
        "outputId": "ce2677c0-a602-4e2e-ce7c-a820005bc426"
      },
      "source": [
        "temletrau()"
      ],
      "execution_count": null,
      "outputs": [
        {
          "output_type": "stream",
          "name": "stdout",
          "text": [
            "insira uma frase: Olá, meu nome é Emmanuel\n",
            "você utilizou a letra u\n"
          ]
        }
      ]
    },
    {
      "cell_type": "code",
      "metadata": {
        "id": "mv75hwZ2JAMd"
      },
      "source": [
        "def somadosquadrados(a,b):\n",
        "  somaq = a**2 + b**2\n",
        "  return somaq"
      ],
      "execution_count": null,
      "outputs": []
    },
    {
      "cell_type": "code",
      "metadata": {
        "colab": {
          "base_uri": "https://localhost:8080/"
        },
        "id": "sh9eS7t-J6qc",
        "outputId": "9a2e77d5-31d4-432b-f0eb-4bac5d0a8441"
      },
      "source": [
        "somadosquadrados(2,3)"
      ],
      "execution_count": null,
      "outputs": [
        {
          "output_type": "execute_result",
          "data": {
            "text/plain": [
              "13"
            ]
          },
          "metadata": {},
          "execution_count": 28
        }
      ]
    },
    {
      "cell_type": "code",
      "metadata": {
        "id": "NoACPKfdKCZA"
      },
      "source": [
        ""
      ],
      "execution_count": null,
      "outputs": []
    }
  ]
}